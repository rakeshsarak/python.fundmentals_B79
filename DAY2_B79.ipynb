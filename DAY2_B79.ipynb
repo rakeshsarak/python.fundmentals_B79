{
 "cells": [
  {
   "cell_type": "code",
   "execution_count": null,
   "id": "ce44858e",
   "metadata": {},
   "outputs": [],
   "source": [
    "introduction to python programming :"
   ]
  },
  {
   "cell_type": "code",
   "execution_count": null,
   "id": "4b0278e6",
   "metadata": {},
   "outputs": [],
   "source": []
  },
  {
   "cell_type": "code",
   "execution_count": null,
   "id": "9fd3cbb6",
   "metadata": {},
   "outputs": [],
   "source": [
    "understanding the concepts of variables in python :"
   ]
  },
  {
   "cell_type": "code",
   "execution_count": 1,
   "id": "4f4d933a",
   "metadata": {},
   "outputs": [],
   "source": [
    "x=2\n",
    "y=3"
   ]
  },
  {
   "cell_type": "code",
   "execution_count": 2,
   "id": "710628cf",
   "metadata": {},
   "outputs": [
    {
     "name": "stdout",
     "output_type": "stream",
     "text": [
      "5\n"
     ]
    }
   ],
   "source": [
    "z= x+y\n",
    "print(z)"
   ]
  },
  {
   "cell_type": "code",
   "execution_count": null,
   "id": "6e4fe08f",
   "metadata": {},
   "outputs": [],
   "source": [
    "rules for declaring the variables :"
   ]
  },
  {
   "cell_type": "code",
   "execution_count": null,
   "id": "04b30788",
   "metadata": {},
   "outputs": [],
   "source": [
    "rile01 : no namespaces while declaring the variable"
   ]
  },
  {
   "cell_type": "code",
   "execution_count": 3,
   "id": "102da4c4",
   "metadata": {},
   "outputs": [],
   "source": [
    "firstname = 'RAKESH'"
   ]
  },
  {
   "cell_type": "code",
   "execution_count": 4,
   "id": "338502b1",
   "metadata": {},
   "outputs": [
    {
     "name": "stdout",
     "output_type": "stream",
     "text": [
      "RAKESH\n"
     ]
    }
   ],
   "source": [
    "print(firstname)"
   ]
  },
  {
   "cell_type": "code",
   "execution_count": null,
   "id": "3efe9d5a",
   "metadata": {},
   "outputs": [],
   "source": [
    "Rule01 : a variable name should not start with the number **"
   ]
  },
  {
   "cell_type": "code",
   "execution_count": 5,
   "id": "bdd6c6dc",
   "metadata": {},
   "outputs": [
    {
     "ename": "SyntaxError",
     "evalue": "invalid decimal literal (3090298220.py, line 1)",
     "output_type": "error",
     "traceback": [
      "\u001b[1;36m  Cell \u001b[1;32mIn[5], line 1\u001b[1;36m\u001b[0m\n\u001b[1;33m    1name ='akhil'\u001b[0m\n\u001b[1;37m    ^\u001b[0m\n\u001b[1;31mSyntaxError\u001b[0m\u001b[1;31m:\u001b[0m invalid decimal literal\n"
     ]
    }
   ],
   "source": [
    "1name ='akhil'"
   ]
  },
  {
   "cell_type": "code",
   "execution_count": 7,
   "id": "ca628317",
   "metadata": {},
   "outputs": [
    {
     "name": "stdout",
     "output_type": "stream",
     "text": [
      "akhil\n"
     ]
    }
   ],
   "source": [
    "name1 = 'akhil'\n",
    "print (name1)"
   ]
  },
  {
   "cell_type": "code",
   "execution_count": null,
   "id": "323adec8",
   "metadata": {},
   "outputs": [],
   "source": [
    "rule03 : variable name should not contain any special characters"
   ]
  },
  {
   "cell_type": "code",
   "execution_count": 8,
   "id": "838dcbed",
   "metadata": {},
   "outputs": [
    {
     "ename": "SyntaxError",
     "evalue": "invalid syntax (3003929555.py, line 1)",
     "output_type": "error",
     "traceback": [
      "\u001b[1;36m  Cell \u001b[1;32mIn[8], line 1\u001b[1;36m\u001b[0m\n\u001b[1;33m    name@ = 'navina'\u001b[0m\n\u001b[1;37m          ^\u001b[0m\n\u001b[1;31mSyntaxError\u001b[0m\u001b[1;31m:\u001b[0m invalid syntax\n"
     ]
    }
   ],
   "source": [
    "name@ = 'navina'\n",
    "print (name@)"
   ]
  },
  {
   "cell_type": "code",
   "execution_count": null,
   "id": "4dd8f251",
   "metadata": {},
   "outputs": [],
   "source": [
    "introduction to data type in python :"
   ]
  },
  {
   "cell_type": "code",
   "execution_count": null,
   "id": "1cf7cb37",
   "metadata": {},
   "outputs": [],
   "source": [
    "string ---> str\n",
    "numbers ---> integers (int) float(decimals ) -----> float\n",
    "lists ---> list\n",
    "tuples ---> tuple\n",
    "dictionaries ----> dict"
   ]
  },
  {
   "cell_type": "code",
   "execution_count": null,
   "id": "b31ec38e",
   "metadata": {},
   "outputs": [],
   "source": [
    "classification of datatypes :\n",
    "    \n",
    "    1. mutables data types ---> which we can edit/alter\n",
    "    2. immutable data types ---> which we cant edit or alter"
   ]
  },
  {
   "cell_type": "code",
   "execution_count": null,
   "id": "b93c8693",
   "metadata": {},
   "outputs": [],
   "source": [
    "introduction to string data type :\n",
    "    defination : A string is a series of characters decalred in quotes\n",
    "        classification : it is classified as an immutable data type\n",
    "            1. single quote\n",
    "            2. double quote"
   ]
  },
  {
   "cell_type": "code",
   "execution_count": 9,
   "id": "cb03c2bd",
   "metadata": {},
   "outputs": [
    {
     "name": "stdout",
     "output_type": "stream",
     "text": [
      "rakesh\n"
     ]
    }
   ],
   "source": [
    "name = 'rakesh' #sinlge quote\n",
    "print (name)"
   ]
  },
  {
   "cell_type": "code",
   "execution_count": 10,
   "id": "944a3da3",
   "metadata": {},
   "outputs": [
    {
     "name": "stdout",
     "output_type": "stream",
     "text": [
      "rakesh\n"
     ]
    }
   ],
   "source": [
    "name1 = \"rakesh\" #double quote\n",
    "print (name1)"
   ]
  },
  {
   "cell_type": "code",
   "execution_count": null,
   "id": "ab7e8475",
   "metadata": {},
   "outputs": [],
   "source": [
    "Understanding the string methods :\n",
    "    \n",
    "    methods are like built in program "
   ]
  },
  {
   "cell_type": "code",
   "execution_count": 11,
   "id": "b8fddc96",
   "metadata": {},
   "outputs": [
    {
     "data": {
      "text/plain": [
       "str"
      ]
     },
     "execution_count": 11,
     "metadata": {},
     "output_type": "execute_result"
    }
   ],
   "source": [
    "type(name)"
   ]
  },
  {
   "cell_type": "code",
   "execution_count": 17,
   "id": "b244b707",
   "metadata": {},
   "outputs": [
    {
     "ename": "NameError",
     "evalue": "name 'name2' is not defined",
     "output_type": "error",
     "traceback": [
      "\u001b[1;31m---------------------------------------------------------------------------\u001b[0m",
      "\u001b[1;31mNameError\u001b[0m                                 Traceback (most recent call last)",
      "Cell \u001b[1;32mIn[17], line 1\u001b[0m\n\u001b[1;32m----> 1\u001b[0m \u001b[38;5;28mtype\u001b[39m(\u001b[43mname2\u001b[49m)\n",
      "\u001b[1;31mNameError\u001b[0m: name 'name2' is not defined"
     ]
    }
   ],
   "source": [
    "type(name2)"
   ]
  },
  {
   "cell_type": "code",
   "execution_count": 18,
   "id": "67bef1a4",
   "metadata": {},
   "outputs": [
    {
     "name": "stdout",
     "output_type": "stream",
     "text": [
      "sara sultana\n"
     ]
    }
   ],
   "source": [
    "fullname = \"sara sultana\"\n",
    "print (fullname)"
   ]
  },
  {
   "cell_type": "code",
   "execution_count": 19,
   "id": "9de0de11",
   "metadata": {},
   "outputs": [
    {
     "name": "stdout",
     "output_type": "stream",
     "text": [
      "Sara Sultana\n"
     ]
    }
   ],
   "source": [
    "print (fullname.title())"
   ]
  },
  {
   "cell_type": "code",
   "execution_count": 20,
   "id": "706940a0",
   "metadata": {},
   "outputs": [
    {
     "name": "stdout",
     "output_type": "stream",
     "text": [
      "SARA SULTANA\n"
     ]
    }
   ],
   "source": [
    "print (fullname.upper())"
   ]
  },
  {
   "cell_type": "code",
   "execution_count": 21,
   "id": "3d6d9fe8",
   "metadata": {},
   "outputs": [
    {
     "name": "stdout",
     "output_type": "stream",
     "text": [
      "sara sultana\n"
     ]
    }
   ],
   "source": [
    "print (fullname.lower())"
   ]
  },
  {
   "cell_type": "code",
   "execution_count": null,
   "id": "85b250c2",
   "metadata": {},
   "outputs": [],
   "source": []
  },
  {
   "cell_type": "code",
   "execution_count": null,
   "id": "114de61e",
   "metadata": {},
   "outputs": [],
   "source": []
  },
  {
   "cell_type": "code",
   "execution_count": null,
   "id": "987a36a8",
   "metadata": {},
   "outputs": [],
   "source": []
  },
  {
   "cell_type": "code",
   "execution_count": null,
   "id": "1bafd417",
   "metadata": {},
   "outputs": [],
   "source": []
  },
  {
   "cell_type": "code",
   "execution_count": null,
   "id": "4984dbbf",
   "metadata": {},
   "outputs": [],
   "source": []
  }
 ],
 "metadata": {
  "kernelspec": {
   "display_name": "Python 3 (ipykernel)",
   "language": "python",
   "name": "python3"
  },
  "language_info": {
   "codemirror_mode": {
    "name": "ipython",
    "version": 3
   },
   "file_extension": ".py",
   "mimetype": "text/x-python",
   "name": "python",
   "nbconvert_exporter": "python",
   "pygments_lexer": "ipython3",
   "version": "3.10.9"
  }
 },
 "nbformat": 4,
 "nbformat_minor": 5
}
